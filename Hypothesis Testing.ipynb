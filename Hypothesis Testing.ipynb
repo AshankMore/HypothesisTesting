{
 "cells": [
  {
   "cell_type": "markdown",
   "metadata": {},
   "source": [
    "# Data Science Position Research Test\n",
    "  \n",
    "  ###### Submitted By: Ashank More"
   ]
  },
  {
   "cell_type": "markdown",
   "metadata": {},
   "source": [
    "### Data File: The Crash Reporting - Incidents Data from Montgomery County, MD \n",
    "Source: https://catalog.data.gov/dataset/crash-reporting-incidents-data \n",
    "Description: This dataset provides general information about each collision and details of all traffic \n",
    "collisions occurring on county and local roadways within Montgomery County, as collected via the Automated \n",
    "Crash Reporting System (ACRS) of the MD State Police, and reported by the Montgomery County Police, \n",
    "Gaithersburg Police, Rockville Police, or the Maryland-National Capital Park Police.\n"
   ]
  },
  {
   "cell_type": "markdown",
   "metadata": {},
   "source": [
    "### Importing all the important libraries. \n",
    "<br> Pandas: For data manipulation\n",
    "<br> Numpy: For Mathematical Computation\n",
    "<br> Seaborn, Matplotlib: For data visualization\n",
    "<br> Sklearn: For Machine Learning"
   ]
  },
  {
   "cell_type": "code",
   "execution_count": 2,
   "metadata": {},
   "outputs": [],
   "source": [
    "import pandas as pd\n",
    "import numpy as np\n",
    "import seaborn as sns\n",
    "from sklearn import metrics\n",
    "from sklearn.model_selection import train_test_split\n",
    "import random\n",
    "import datetime as dt\n",
    "import matplotlib.pyplot as plt\n",
    "%matplotlib inline"
   ]
  },
  {
   "cell_type": "markdown",
   "metadata": {},
   "source": [
    "# Loading the data\n",
    "Reading the file using Pandas. Storing the data in a dataframe 'df'."
   ]
  },
  {
   "cell_type": "code",
   "execution_count": 3,
   "metadata": {},
   "outputs": [
    {
     "name": "stderr",
     "output_type": "stream",
     "text": [
      "D:\\Anaconda\\lib\\site-packages\\IPython\\core\\interactiveshell.py:3058: DtypeWarning: Columns (1) have mixed types. Specify dtype option on import or set low_memory=False.\n",
      "  interactivity=interactivity, compiler=compiler, result=result)\n"
     ]
    }
   ],
   "source": [
    "df = pd.read_csv(\"./Desktop/Crash_Reporting_-_Incidents_Data.csv\")"
   ]
  },
  {
   "cell_type": "markdown",
   "metadata": {},
   "source": [
    "# Data Exploration\n",
    "\n",
    "### Knowing more about the dataset.\n",
    "\n",
    "<br>These commands are used to take a look at specific sections of pandas DataFrame.\n",
    "<br>df.head(n): First n rows of the DataFrame\n",
    "<br>df.tail(n): Last n rows of the DataFrame\n",
    "<br>df.isnull(): Return a boolean same-sized object indicating if the values are NA.\n",
    "<br>df.shape: Number of rows and columns\n",
    "<br>df.info(): Index, Datatype and Memory information\n",
    "<br>df.value_counts(dropna=False): View unique values and counts\n",
    "<br>df.duplicated(): Returns true if there are duplicates and false otherwise"
   ]
  },
  {
   "cell_type": "code",
   "execution_count": 4,
   "metadata": {
    "scrolled": true
   },
   "outputs": [
    {
     "data": {
      "text/html": [
       "<div>\n",
       "<style scoped>\n",
       "    .dataframe tbody tr th:only-of-type {\n",
       "        vertical-align: middle;\n",
       "    }\n",
       "\n",
       "    .dataframe tbody tr th {\n",
       "        vertical-align: top;\n",
       "    }\n",
       "\n",
       "    .dataframe thead th {\n",
       "        text-align: right;\n",
       "    }\n",
       "</style>\n",
       "<table border=\"1\" class=\"dataframe\">\n",
       "  <thead>\n",
       "    <tr style=\"text-align: right;\">\n",
       "      <th></th>\n",
       "      <th>Report Number</th>\n",
       "      <th>Local Case Number</th>\n",
       "      <th>Agency Name</th>\n",
       "      <th>ACRS Report Type</th>\n",
       "      <th>#VALUE!</th>\n",
       "      <th>Crash Date/Time</th>\n",
       "      <th>Hit/Run</th>\n",
       "      <th>Route Type</th>\n",
       "      <th>Mile Point</th>\n",
       "      <th>Mile Point Direction</th>\n",
       "      <th>...</th>\n",
       "      <th>Fixed Oject Struck</th>\n",
       "      <th>Junction</th>\n",
       "      <th>Intersection Type</th>\n",
       "      <th>Intersection Area</th>\n",
       "      <th>Road Alignment</th>\n",
       "      <th>Road Condition</th>\n",
       "      <th>Road Division</th>\n",
       "      <th>Latitude</th>\n",
       "      <th>Longitude</th>\n",
       "      <th>Location</th>\n",
       "    </tr>\n",
       "  </thead>\n",
       "  <tbody>\n",
       "    <tr>\n",
       "      <td>0</td>\n",
       "      <td>MCP3048005T</td>\n",
       "      <td>190046316</td>\n",
       "      <td>Montgomery County Police</td>\n",
       "      <td>Property Damage Crash</td>\n",
       "      <td>2019</td>\n",
       "      <td>9/27/2019 9:38</td>\n",
       "      <td>No</td>\n",
       "      <td>NaN</td>\n",
       "      <td>NaN</td>\n",
       "      <td>NaN</td>\n",
       "      <td>...</td>\n",
       "      <td>BUILDING</td>\n",
       "      <td>NaN</td>\n",
       "      <td>NaN</td>\n",
       "      <td>NaN</td>\n",
       "      <td>NaN</td>\n",
       "      <td>NaN</td>\n",
       "      <td>NaN</td>\n",
       "      <td>39.026700</td>\n",
       "      <td>-77.136785</td>\n",
       "      <td>(39.0267, -77.136785)</td>\n",
       "    </tr>\n",
       "    <tr>\n",
       "      <td>1</td>\n",
       "      <td>MCP21620045</td>\n",
       "      <td>190046911</td>\n",
       "      <td>Montgomery County Police</td>\n",
       "      <td>Property Damage Crash</td>\n",
       "      <td>2019</td>\n",
       "      <td>9/30/2019 10:15</td>\n",
       "      <td>Yes</td>\n",
       "      <td>NaN</td>\n",
       "      <td>NaN</td>\n",
       "      <td>NaN</td>\n",
       "      <td>...</td>\n",
       "      <td>NaN</td>\n",
       "      <td>NaN</td>\n",
       "      <td>NaN</td>\n",
       "      <td>NaN</td>\n",
       "      <td>NaN</td>\n",
       "      <td>NaN</td>\n",
       "      <td>NaN</td>\n",
       "      <td>39.150866</td>\n",
       "      <td>-77.059781</td>\n",
       "      <td>(39.15086647, -77.05978078)</td>\n",
       "    </tr>\n",
       "    <tr>\n",
       "      <td>2</td>\n",
       "      <td>MCP2981002X</td>\n",
       "      <td>190046928</td>\n",
       "      <td>Montgomery County Police</td>\n",
       "      <td>Property Damage Crash</td>\n",
       "      <td>2019</td>\n",
       "      <td>9/30/2019 19:00</td>\n",
       "      <td>Yes</td>\n",
       "      <td>NaN</td>\n",
       "      <td>NaN</td>\n",
       "      <td>NaN</td>\n",
       "      <td>...</td>\n",
       "      <td>NaN</td>\n",
       "      <td>NaN</td>\n",
       "      <td>NaN</td>\n",
       "      <td>NaN</td>\n",
       "      <td>NaN</td>\n",
       "      <td>NaN</td>\n",
       "      <td>NaN</td>\n",
       "      <td>39.060069</td>\n",
       "      <td>-77.047198</td>\n",
       "      <td>(39.06006941, -77.04719762)</td>\n",
       "    </tr>\n",
       "    <tr>\n",
       "      <td>3</td>\n",
       "      <td>MCP21020022</td>\n",
       "      <td>200014382</td>\n",
       "      <td>Montgomery County Police</td>\n",
       "      <td>Injury Crash</td>\n",
       "      <td>2020</td>\n",
       "      <td>3/29/2020 11:51</td>\n",
       "      <td>No</td>\n",
       "      <td>Maryland (State)</td>\n",
       "      <td>24.79</td>\n",
       "      <td>North</td>\n",
       "      <td>...</td>\n",
       "      <td>OTHER POLE</td>\n",
       "      <td>NON INTERSECTION</td>\n",
       "      <td>NaN</td>\n",
       "      <td>NaN</td>\n",
       "      <td>CURVE RIGHT</td>\n",
       "      <td>NO DEFECTS</td>\n",
       "      <td>TWO-WAY, DIVIDED, UNPROTECTED PAINTED MIN 4 FEET</td>\n",
       "      <td>39.245390</td>\n",
       "      <td>-77.116622</td>\n",
       "      <td>(39.24538965, -77.1166219)</td>\n",
       "    </tr>\n",
       "    <tr>\n",
       "      <td>4</td>\n",
       "      <td>DD5620004G</td>\n",
       "      <td>190046109</td>\n",
       "      <td>Rockville Police Departme</td>\n",
       "      <td>Property Damage Crash</td>\n",
       "      <td>2019</td>\n",
       "      <td>9/26/2019 7:20</td>\n",
       "      <td>No</td>\n",
       "      <td>NaN</td>\n",
       "      <td>NaN</td>\n",
       "      <td>NaN</td>\n",
       "      <td>...</td>\n",
       "      <td>OTHER POLE</td>\n",
       "      <td>NaN</td>\n",
       "      <td>NaN</td>\n",
       "      <td>NaN</td>\n",
       "      <td>NaN</td>\n",
       "      <td>NaN</td>\n",
       "      <td>NaN</td>\n",
       "      <td>39.103518</td>\n",
       "      <td>-77.157669</td>\n",
       "      <td>(39.10351817, -77.15766933)</td>\n",
       "    </tr>\n",
       "  </tbody>\n",
       "</table>\n",
       "<p>5 rows × 45 columns</p>\n",
       "</div>"
      ],
      "text/plain": [
       "  Report Number Local Case Number                Agency Name  \\\n",
       "0   MCP3048005T         190046316   Montgomery County Police   \n",
       "1   MCP21620045         190046911   Montgomery County Police   \n",
       "2   MCP2981002X         190046928   Montgomery County Police   \n",
       "3   MCP21020022         200014382   Montgomery County Police   \n",
       "4    DD5620004G         190046109  Rockville Police Departme   \n",
       "\n",
       "        ACRS Report Type  #VALUE!  Crash Date/Time Hit/Run        Route Type  \\\n",
       "0  Property Damage Crash     2019   9/27/2019 9:38      No               NaN   \n",
       "1  Property Damage Crash     2019  9/30/2019 10:15     Yes               NaN   \n",
       "2  Property Damage Crash     2019  9/30/2019 19:00     Yes               NaN   \n",
       "3           Injury Crash     2020  3/29/2020 11:51      No  Maryland (State)   \n",
       "4  Property Damage Crash     2019   9/26/2019 7:20      No               NaN   \n",
       "\n",
       "   Mile Point Mile Point Direction  ... Fixed Oject Struck          Junction  \\\n",
       "0         NaN                  NaN  ...           BUILDING               NaN   \n",
       "1         NaN                  NaN  ...                NaN               NaN   \n",
       "2         NaN                  NaN  ...                NaN               NaN   \n",
       "3       24.79                North  ...         OTHER POLE  NON INTERSECTION   \n",
       "4         NaN                  NaN  ...         OTHER POLE               NaN   \n",
       "\n",
       "  Intersection Type  Intersection Area Road Alignment  Road Condition  \\\n",
       "0               NaN                NaN            NaN             NaN   \n",
       "1               NaN                NaN            NaN             NaN   \n",
       "2               NaN                NaN            NaN             NaN   \n",
       "3               NaN                NaN    CURVE RIGHT      NO DEFECTS   \n",
       "4               NaN                NaN            NaN             NaN   \n",
       "\n",
       "                                      Road Division   Latitude  Longitude  \\\n",
       "0                                               NaN  39.026700 -77.136785   \n",
       "1                                               NaN  39.150866 -77.059781   \n",
       "2                                               NaN  39.060069 -77.047198   \n",
       "3  TWO-WAY, DIVIDED, UNPROTECTED PAINTED MIN 4 FEET  39.245390 -77.116622   \n",
       "4                                               NaN  39.103518 -77.157669   \n",
       "\n",
       "                      Location  \n",
       "0        (39.0267, -77.136785)  \n",
       "1  (39.15086647, -77.05978078)  \n",
       "2  (39.06006941, -77.04719762)  \n",
       "3   (39.24538965, -77.1166219)  \n",
       "4  (39.10351817, -77.15766933)  \n",
       "\n",
       "[5 rows x 45 columns]"
      ]
     },
     "execution_count": 4,
     "metadata": {},
     "output_type": "execute_result"
    }
   ],
   "source": [
    "df.head()"
   ]
  },
  {
   "cell_type": "code",
   "execution_count": 5,
   "metadata": {},
   "outputs": [
    {
     "data": {
      "text/plain": [
       "(66494, 45)"
      ]
     },
     "execution_count": 5,
     "metadata": {},
     "output_type": "execute_result"
    }
   ],
   "source": [
    "df.shape"
   ]
  },
  {
   "cell_type": "code",
   "execution_count": 6,
   "metadata": {
    "scrolled": true
   },
   "outputs": [
    {
     "name": "stdout",
     "output_type": "stream",
     "text": [
      "<class 'pandas.core.frame.DataFrame'>\n",
      "RangeIndex: 66494 entries, 0 to 66493\n",
      "Data columns (total 45 columns):\n",
      "Report Number                   66494 non-null object\n",
      "Local Case Number               66494 non-null object\n",
      "Agency Name                     66494 non-null object\n",
      "ACRS Report Type                66494 non-null object\n",
      "#VALUE!                         66494 non-null int64\n",
      "Crash Date/Time                 66494 non-null object\n",
      "Hit/Run                         66492 non-null object\n",
      "Route Type                      57657 non-null object\n",
      "Mile Point                      58026 non-null float64\n",
      "Mile Point Direction            57671 non-null object\n",
      "Lane Direction                  58037 non-null object\n",
      "Lane Number                     66494 non-null int64\n",
      "Lane Type                       6430 non-null object\n",
      "Number of Lanes                 66494 non-null int64\n",
      "Direction                       58026 non-null object\n",
      "Distance                        59892 non-null float64\n",
      "Distance Unit                   58036 non-null object\n",
      "Road Grade                      57572 non-null object\n",
      "NonTraffic                      66494 non-null object\n",
      "Road Name                       58036 non-null object\n",
      "Cross-Street Type               57646 non-null object\n",
      "Cross-Street Name               58032 non-null object\n",
      "Off-Road Description            8457 non-null object\n",
      "Municipality                    7027 non-null object\n",
      "Related Non-Motorist            3658 non-null object\n",
      "At Fault                        66494 non-null object\n",
      "Collision Type                  66151 non-null object\n",
      "Weather                         60914 non-null object\n",
      "Surface Condition               56334 non-null object\n",
      "Light                           65953 non-null object\n",
      "Traffic Control                 54511 non-null object\n",
      "Driver Substance Abuse          55822 non-null object\n",
      "Non-Motorist Substance Abuse    2909 non-null object\n",
      "First Harmful Event             66128 non-null object\n",
      "Second Harmful Event            16596 non-null object\n",
      "Fixed Oject Struck              13817 non-null object\n",
      "Junction                        48833 non-null object\n",
      "Intersection Type               32589 non-null object\n",
      "Intersection Area               18721 non-null object\n",
      "Road Alignment                  57736 non-null object\n",
      "Road Condition                  55538 non-null object\n",
      "Road Division                   57155 non-null object\n",
      "Latitude                        66494 non-null float64\n",
      "Longitude                       66494 non-null float64\n",
      "Location                        66494 non-null object\n",
      "dtypes: float64(4), int64(3), object(38)\n",
      "memory usage: 22.8+ MB\n"
     ]
    }
   ],
   "source": [
    "df.info()"
   ]
  },
  {
   "cell_type": "code",
   "execution_count": 7,
   "metadata": {},
   "outputs": [
    {
     "name": "stdout",
     "output_type": "stream",
     "text": [
      "Duplicate Rows except first occurrence based on all columns are :\n",
      "Empty DataFrame\n",
      "Columns: [Report Number, Local Case Number, Agency Name, ACRS Report Type, #VALUE!, Crash Date/Time, Hit/Run, Route Type, Mile Point, Mile Point Direction, Lane Direction, Lane Number, Lane Type, Number of Lanes, Direction, Distance, Distance Unit, Road Grade, NonTraffic, Road Name, Cross-Street Type, Cross-Street Name, Off-Road Description, Municipality, Related Non-Motorist, At Fault, Collision Type, Weather, Surface Condition, Light, Traffic Control, Driver Substance Abuse, Non-Motorist Substance Abuse, First Harmful Event, Second Harmful Event, Fixed Oject Struck, Junction, Intersection Type, Intersection Area, Road Alignment, Road Condition, Road Division, Latitude, Longitude, Location]\n",
      "Index: []\n",
      "\n",
      "[0 rows x 45 columns]\n"
     ]
    }
   ],
   "source": [
    "duplicateRowsDF = df[df.duplicated()]\n",
    "print(\"Duplicate Rows except first occurrence based on all columns are :\")\n",
    "print(duplicateRowsDF)"
   ]
  },
  {
   "cell_type": "code",
   "execution_count": 8,
   "metadata": {
    "scrolled": true
   },
   "outputs": [
    {
     "data": {
      "text/plain": [
       "Report Number                       0\n",
       "Local Case Number                   0\n",
       "Agency Name                         0\n",
       "ACRS Report Type                    0\n",
       "#VALUE!                             0\n",
       "Crash Date/Time                     0\n",
       "Hit/Run                             2\n",
       "Route Type                       8837\n",
       "Mile Point                       8468\n",
       "Mile Point Direction             8823\n",
       "Lane Direction                   8457\n",
       "Lane Number                         0\n",
       "Lane Type                       60064\n",
       "Number of Lanes                     0\n",
       "Direction                        8468\n",
       "Distance                         6602\n",
       "Distance Unit                    8458\n",
       "Road Grade                       8922\n",
       "NonTraffic                          0\n",
       "Road Name                        8458\n",
       "Cross-Street Type                8848\n",
       "Cross-Street Name                8462\n",
       "Off-Road Description            58037\n",
       "Municipality                    59467\n",
       "Related Non-Motorist            62836\n",
       "At Fault                            0\n",
       "Collision Type                    343\n",
       "Weather                          5580\n",
       "Surface Condition               10160\n",
       "Light                             541\n",
       "Traffic Control                 11983\n",
       "Driver Substance Abuse          10672\n",
       "Non-Motorist Substance Abuse    63585\n",
       "First Harmful Event               366\n",
       "Second Harmful Event            49898\n",
       "Fixed Oject Struck              52677\n",
       "Junction                        17661\n",
       "Intersection Type               33905\n",
       "Intersection Area               47773\n",
       "Road Alignment                   8758\n",
       "Road Condition                  10956\n",
       "Road Division                    9339\n",
       "Latitude                            0\n",
       "Longitude                           0\n",
       "Location                            0\n",
       "dtype: int64"
      ]
     },
     "execution_count": 8,
     "metadata": {},
     "output_type": "execute_result"
    }
   ],
   "source": [
    "df.isnull().sum(axis = 0)"
   ]
  },
  {
   "cell_type": "code",
   "execution_count": 11,
   "metadata": {},
   "outputs": [],
   "source": [
    "df1 =df\n",
    "df2 =df\n",
    "df3 =df"
   ]
  },
  {
   "cell_type": "markdown",
   "metadata": {},
   "source": [
    "### Findings: \n",
    "<br>1) The data has too many missing values.\n",
    "<br>2) Manjority of the data is categorical.\n",
    "<br>3) There are no duplicates presesnt in the data.\n",
    "<br>4) The data comprises of 66494 rows and 45 columns"
   ]
  },
  {
   "cell_type": "markdown",
   "metadata": {},
   "source": [
    "<br>"
   ]
  },
  {
   "cell_type": "markdown",
   "metadata": {},
   "source": [
    "# Data Cleaning"
   ]
  },
  {
   "cell_type": "markdown",
   "metadata": {},
   "source": [
    "### Cleaning I\n",
    "<br>Handling Null values: \n",
    "<br>Using the below command we remove the data which has more than 40% Null values.\n",
    "<br>This reduces our number of columns to 36."
   ]
  },
  {
   "cell_type": "code",
   "execution_count": 12,
   "metadata": {},
   "outputs": [],
   "source": [
    "cols = df.columns[df.isnull().mean()>0.4]\n",
    "df=df.drop(cols, axis=1)"
   ]
  },
  {
   "cell_type": "code",
   "execution_count": 17,
   "metadata": {
    "scrolled": true
   },
   "outputs": [
    {
     "data": {
      "text/plain": [
       "(66494, 36)"
      ]
     },
     "execution_count": 17,
     "metadata": {},
     "output_type": "execute_result"
    }
   ],
   "source": [
    "df.shape"
   ]
  },
  {
   "cell_type": "code",
   "execution_count": 18,
   "metadata": {
    "scrolled": true
   },
   "outputs": [
    {
     "data": {
      "text/plain": [
       "Report Number                 0\n",
       "Local Case Number             0\n",
       "Agency Name                   0\n",
       "ACRS Report Type              0\n",
       "#VALUE!                       0\n",
       "Crash Date/Time               0\n",
       "Hit/Run                       2\n",
       "Route Type                 8837\n",
       "Mile Point                 8468\n",
       "Mile Point Direction       8823\n",
       "Lane Direction             8457\n",
       "Lane Number                   0\n",
       "Number of Lanes               0\n",
       "Direction                  8468\n",
       "Distance                   6602\n",
       "Distance Unit              8458\n",
       "Road Grade                 8922\n",
       "NonTraffic                    0\n",
       "Road Name                  8458\n",
       "Cross-Street Type          8848\n",
       "Cross-Street Name          8462\n",
       "At Fault                      0\n",
       "Collision Type              343\n",
       "Weather                    5580\n",
       "Surface Condition         10160\n",
       "Light                       541\n",
       "Traffic Control           11983\n",
       "Driver Substance Abuse    10672\n",
       "First Harmful Event         366\n",
       "Junction                  17661\n",
       "Road Alignment             8758\n",
       "Road Condition            10956\n",
       "Road Division              9339\n",
       "Latitude                      0\n",
       "Longitude                     0\n",
       "Location                      0\n",
       "dtype: int64"
      ]
     },
     "execution_count": 18,
     "metadata": {},
     "output_type": "execute_result"
    }
   ],
   "source": [
    "df.isnull().sum(axis = 0)"
   ]
  },
  {
   "cell_type": "markdown",
   "metadata": {},
   "source": [
    "### Cleaning II\n",
    "<br> Replacing Column Names: \n",
    "<br> There are a lot of spaces in column names. This sometimes creates a problem. \n",
    "<br> Using the below command we replace the space with a blank.\n",
    "<br> Column value is year, so we'll rename it."
   ]
  },
  {
   "cell_type": "code",
   "execution_count": 19,
   "metadata": {},
   "outputs": [],
   "source": [
    "df.columns = df.columns.str.replace(' ', '') "
   ]
  },
  {
   "cell_type": "code",
   "execution_count": 20,
   "metadata": {},
   "outputs": [],
   "source": [
    "df.rename(columns={'#VALUE!':'Year'}, inplace=True)"
   ]
  },
  {
   "cell_type": "markdown",
   "metadata": {},
   "source": [
    "# Data Wrangling"
   ]
  },
  {
   "cell_type": "markdown",
   "metadata": {},
   "source": [
    "### Creating New Columns\n",
    "<br>In order to test the hypothesis we need to create new column using the exisiting columns.\n",
    "<br>To create a new column using conditions, we first create functions. \n",
    "<br>Then a new column is created and values are filled using the functions. \n",
    "<br>\n",
    "<br>This is done by using .apply method of python.\n",
    "<br>df[col_name].apply(func_name,axis=1): Applies the function func_name across each row of df[col_name]\n",
    "<br>\n",
    "<br>To verify our results we will random samples of the subset of the dataset. \n",
    "<br>df.sample(n): displays n random rows from the dataframe df.\n",
    "<br>\n",
    "<br>To check the value count of our new column we will usedf.value_counts()"
   ]
  },
  {
   "cell_type": "markdown",
   "metadata": {},
   "source": [
    "#### New Column I : Visibility \n",
    "<br>This will help us understand the visibility of the driver based on light conditions and weather.\n",
    "<br>The code will return High if there is ample light and weather is clear, Medium if its dusk or down and weather is unclear,\n",
    "<br>low for all other cases when weather is unclear. \n",
    "<br>Note: Unknown conditions are considered as Medium."
   ]
  },
  {
   "cell_type": "code",
   "execution_count": 22,
   "metadata": {},
   "outputs": [],
   "source": [
    "def Visibility(df):\n",
    "    if (df['Light']==('DARK LIGHTS ON') or df['Light']==('DAYLIGHT')) and df['Weather'] == 'CLEAR':\n",
    "        return 'High'\n",
    "    elif df['Light'] == (('DARK NO LIGHTS') or df['Light']==('DARK -- UNKNOWN LIGHTING')) and df['Weather'] != 'CLEAR':\n",
    "        return 'Low'\n",
    "    else:\n",
    "        return 'Medium'\n",
    "    "
   ]
  },
  {
   "cell_type": "code",
   "execution_count": 23,
   "metadata": {},
   "outputs": [],
   "source": [
    "df['Visibility']=df.apply(Visibility, axis=1)"
   ]
  },
  {
   "cell_type": "code",
   "execution_count": 25,
   "metadata": {
    "scrolled": true
   },
   "outputs": [
    {
     "data": {
      "text/html": [
       "<div>\n",
       "<style scoped>\n",
       "    .dataframe tbody tr th:only-of-type {\n",
       "        vertical-align: middle;\n",
       "    }\n",
       "\n",
       "    .dataframe tbody tr th {\n",
       "        vertical-align: top;\n",
       "    }\n",
       "\n",
       "    .dataframe thead th {\n",
       "        text-align: right;\n",
       "    }\n",
       "</style>\n",
       "<table border=\"1\" class=\"dataframe\">\n",
       "  <thead>\n",
       "    <tr style=\"text-align: right;\">\n",
       "      <th></th>\n",
       "      <th>Visibility</th>\n",
       "      <th>Light</th>\n",
       "      <th>Weather</th>\n",
       "    </tr>\n",
       "  </thead>\n",
       "  <tbody>\n",
       "    <tr>\n",
       "      <td>455</td>\n",
       "      <td>High</td>\n",
       "      <td>DAYLIGHT</td>\n",
       "      <td>CLEAR</td>\n",
       "    </tr>\n",
       "    <tr>\n",
       "      <td>12379</td>\n",
       "      <td>High</td>\n",
       "      <td>DAYLIGHT</td>\n",
       "      <td>CLEAR</td>\n",
       "    </tr>\n",
       "    <tr>\n",
       "      <td>10665</td>\n",
       "      <td>High</td>\n",
       "      <td>DAYLIGHT</td>\n",
       "      <td>CLEAR</td>\n",
       "    </tr>\n",
       "    <tr>\n",
       "      <td>2119</td>\n",
       "      <td>Medium</td>\n",
       "      <td>DAYLIGHT</td>\n",
       "      <td>CLOUDY</td>\n",
       "    </tr>\n",
       "    <tr>\n",
       "      <td>45541</td>\n",
       "      <td>High</td>\n",
       "      <td>DAYLIGHT</td>\n",
       "      <td>CLEAR</td>\n",
       "    </tr>\n",
       "  </tbody>\n",
       "</table>\n",
       "</div>"
      ],
      "text/plain": [
       "      Visibility     Light Weather\n",
       "455         High  DAYLIGHT   CLEAR\n",
       "12379       High  DAYLIGHT   CLEAR\n",
       "10665       High  DAYLIGHT   CLEAR\n",
       "2119      Medium  DAYLIGHT  CLOUDY\n",
       "45541       High  DAYLIGHT   CLEAR"
      ]
     },
     "execution_count": 25,
     "metadata": {},
     "output_type": "execute_result"
    }
   ],
   "source": [
    "df[['Visibility', 'Light', 'Weather']].sample(5)"
   ]
  },
  {
   "cell_type": "code",
   "execution_count": 26,
   "metadata": {},
   "outputs": [
    {
     "data": {
      "text/plain": [
       "High      39476\n",
       "Medium    26117\n",
       "Low         901\n",
       "Name: Visibility, dtype: int64"
      ]
     },
     "execution_count": 26,
     "metadata": {},
     "output_type": "execute_result"
    }
   ],
   "source": [
    "df['Visibility'].value_counts()"
   ]
  },
  {
   "cell_type": "markdown",
   "metadata": {},
   "source": [
    "#### New Column II : DUI\n",
    "<br>This will help us understand weather the person was under the influence or not.\n",
    "<br>The code will return DUI if there is any substance detected else it will return Not DUI\n",
    "<br>Note: Unknown is classified as Not DUI."
   ]
  },
  {
   "cell_type": "code",
   "execution_count": 27,
   "metadata": {},
   "outputs": [],
   "source": [
    "def DUI(df):\n",
    "    if (df['DriverSubstanceAbuse']==('NONE DETECTED') or df['DriverSubstanceAbuse']== ('NONE DETECTED, UNKNOWN') or \n",
    "    df['DriverSubstanceAbuse']== 'UNKNOWN' or  df['DriverSubstanceAbuse']=='N/A, NONE DETECTED' or \n",
    "    df['DriverSubstanceAbuse']=='N/A, UNKNOWN'  or df['DriverSubstanceAbuse']== 'NONE DETECTED, OTHER'  or                           \n",
    "    df['DriverSubstanceAbuse']=='N/A, NONE DETECTED, UNKNOWN'):\n",
    "        return 'Not DUI'\n",
    "    else:\n",
    "        return 'DUI'"
   ]
  },
  {
   "cell_type": "code",
   "execution_count": 28,
   "metadata": {},
   "outputs": [],
   "source": [
    "df['DUI']=df.apply(DUI, axis=1)"
   ]
  },
  {
   "cell_type": "code",
   "execution_count": 32,
   "metadata": {},
   "outputs": [
    {
     "data": {
      "text/html": [
       "<div>\n",
       "<style scoped>\n",
       "    .dataframe tbody tr th:only-of-type {\n",
       "        vertical-align: middle;\n",
       "    }\n",
       "\n",
       "    .dataframe tbody tr th {\n",
       "        vertical-align: top;\n",
       "    }\n",
       "\n",
       "    .dataframe thead th {\n",
       "        text-align: right;\n",
       "    }\n",
       "</style>\n",
       "<table border=\"1\" class=\"dataframe\">\n",
       "  <thead>\n",
       "    <tr style=\"text-align: right;\">\n",
       "      <th></th>\n",
       "      <th>DUI</th>\n",
       "      <th>DriverSubstanceAbuse</th>\n",
       "    </tr>\n",
       "  </thead>\n",
       "  <tbody>\n",
       "    <tr>\n",
       "      <td>53079</td>\n",
       "      <td>Not DUI</td>\n",
       "      <td>NONE DETECTED</td>\n",
       "    </tr>\n",
       "    <tr>\n",
       "      <td>45831</td>\n",
       "      <td>Not DUI</td>\n",
       "      <td>NONE DETECTED</td>\n",
       "    </tr>\n",
       "    <tr>\n",
       "      <td>40216</td>\n",
       "      <td>DUI</td>\n",
       "      <td>ALCOHOL PRESENT</td>\n",
       "    </tr>\n",
       "    <tr>\n",
       "      <td>34250</td>\n",
       "      <td>Not DUI</td>\n",
       "      <td>NONE DETECTED</td>\n",
       "    </tr>\n",
       "    <tr>\n",
       "      <td>14167</td>\n",
       "      <td>DUI</td>\n",
       "      <td>NaN</td>\n",
       "    </tr>\n",
       "  </tbody>\n",
       "</table>\n",
       "</div>"
      ],
      "text/plain": [
       "           DUI DriverSubstanceAbuse\n",
       "53079  Not DUI        NONE DETECTED\n",
       "45831  Not DUI        NONE DETECTED\n",
       "40216      DUI      ALCOHOL PRESENT\n",
       "34250  Not DUI        NONE DETECTED\n",
       "14167      DUI                  NaN"
      ]
     },
     "execution_count": 32,
     "metadata": {},
     "output_type": "execute_result"
    }
   ],
   "source": [
    "df[['DUI', 'DriverSubstanceAbuse']].sample(5)"
   ]
  },
  {
   "cell_type": "code",
   "execution_count": 33,
   "metadata": {},
   "outputs": [
    {
     "data": {
      "text/plain": [
       "Not DUI    51514\n",
       "DUI        14980\n",
       "Name: DUI, dtype: int64"
      ]
     },
     "execution_count": 33,
     "metadata": {},
     "output_type": "execute_result"
    }
   ],
   "source": [
    "df['DUI'].value_counts()"
   ]
  },
  {
   "cell_type": "code",
   "execution_count": 34,
   "metadata": {},
   "outputs": [],
   "source": [
    "df3=df\n",
    "df4=df"
   ]
  },
  {
   "cell_type": "markdown",
   "metadata": {},
   "source": [
    "#### New Column III : Crashtype\n",
    "\n",
    "<br>This will be dichotomous column. If the crash in injusry or fatal crash, then the code will return 'Severe' \n",
    "<br>else it will retuen 'Property damage'.\n",
    "<br>Note: In this case we will changing the exisiting column (ACRS Report Type) rather than creating a new one."
   ]
  },
  {
   "cell_type": "code",
   "execution_count": 38,
   "metadata": {},
   "outputs": [],
   "source": [
    "def Crashtype(df):\n",
    "    if df['ACRSReportType']==('Property Damage Crash'):\n",
    "        return 'Property Damage Crash'\n",
    "    else:\n",
    "        return 'Severe' "
   ]
  },
  {
   "cell_type": "code",
   "execution_count": 39,
   "metadata": {},
   "outputs": [],
   "source": [
    "df['ACRSReportType']=df.apply(Crashtype, axis=1)"
   ]
  },
  {
   "cell_type": "code",
   "execution_count": 40,
   "metadata": {},
   "outputs": [
    {
     "data": {
      "text/plain": [
       "Property Damage Crash    42740\n",
       "Severe                   23754\n",
       "Name: ACRSReportType, dtype: int64"
      ]
     },
     "execution_count": 40,
     "metadata": {},
     "output_type": "execute_result"
    }
   ],
   "source": [
    "df['ACRSReportType'].value_counts()"
   ]
  },
  {
   "cell_type": "markdown",
   "metadata": {},
   "source": [
    "#### New Column IV : Condition\n",
    "<br>This will help us get the main parameters for our hypothesis test. If the Visibility is low or Medium and the person is under\n",
    "<br>influence then the code will return Unfavorable. Else it will return Favorable."
   ]
  },
  {
   "cell_type": "code",
   "execution_count": 64,
   "metadata": {},
   "outputs": [],
   "source": [
    "def CNDTN(df):\n",
    "    if (df['Visibility']=='Low' or df['Visibility']=='Medium') and df['DUI'] == 'DUI':\n",
    "        return 'Unfavorable'\n",
    "    else:\n",
    "        return 'Favorable'"
   ]
  },
  {
   "cell_type": "code",
   "execution_count": 65,
   "metadata": {},
   "outputs": [],
   "source": [
    "df['Condition'] = df.apply(CNDTN,axis=1)"
   ]
  },
  {
   "cell_type": "code",
   "execution_count": 66,
   "metadata": {},
   "outputs": [
    {
     "data": {
      "text/html": [
       "<div>\n",
       "<style scoped>\n",
       "    .dataframe tbody tr th:only-of-type {\n",
       "        vertical-align: middle;\n",
       "    }\n",
       "\n",
       "    .dataframe tbody tr th {\n",
       "        vertical-align: top;\n",
       "    }\n",
       "\n",
       "    .dataframe thead th {\n",
       "        text-align: right;\n",
       "    }\n",
       "</style>\n",
       "<table border=\"1\" class=\"dataframe\">\n",
       "  <thead>\n",
       "    <tr style=\"text-align: right;\">\n",
       "      <th></th>\n",
       "      <th>Condition</th>\n",
       "      <th>ACRSReportType</th>\n",
       "    </tr>\n",
       "  </thead>\n",
       "  <tbody>\n",
       "    <tr>\n",
       "      <td>60410</td>\n",
       "      <td>Favorable</td>\n",
       "      <td>Property Damage Crash</td>\n",
       "    </tr>\n",
       "    <tr>\n",
       "      <td>52979</td>\n",
       "      <td>Favorable</td>\n",
       "      <td>Severe</td>\n",
       "    </tr>\n",
       "    <tr>\n",
       "      <td>17359</td>\n",
       "      <td>Favorable</td>\n",
       "      <td>Severe</td>\n",
       "    </tr>\n",
       "    <tr>\n",
       "      <td>26888</td>\n",
       "      <td>Favorable</td>\n",
       "      <td>Property Damage Crash</td>\n",
       "    </tr>\n",
       "    <tr>\n",
       "      <td>3953</td>\n",
       "      <td>Favorable</td>\n",
       "      <td>Property Damage Crash</td>\n",
       "    </tr>\n",
       "  </tbody>\n",
       "</table>\n",
       "</div>"
      ],
      "text/plain": [
       "       Condition         ACRSReportType\n",
       "60410  Favorable  Property Damage Crash\n",
       "52979  Favorable                 Severe\n",
       "17359  Favorable                 Severe\n",
       "26888  Favorable  Property Damage Crash\n",
       "3953   Favorable  Property Damage Crash"
      ]
     },
     "execution_count": 66,
     "metadata": {},
     "output_type": "execute_result"
    }
   ],
   "source": [
    "df[['Condition', 'ACRSReportType']].sample(5)"
   ]
  },
  {
   "cell_type": "code",
   "execution_count": 67,
   "metadata": {},
   "outputs": [
    {
     "data": {
      "text/plain": [
       "Favorable      60043\n",
       "Unfavorable     6451\n",
       "Name: Condition, dtype: int64"
      ]
     },
     "execution_count": 67,
     "metadata": {},
     "output_type": "execute_result"
    }
   ],
   "source": [
    "df['Condition'].value_counts()"
   ]
  },
  {
   "cell_type": "markdown",
   "metadata": {},
   "source": [
    "### Cleaning III\n",
    "<br> Removing Column Names: \n",
    "<br> We will drop all the columns that are not neccessary for our analysis."
   ]
  },
  {
   "cell_type": "code",
   "execution_count": 45,
   "metadata": {
    "scrolled": true
   },
   "outputs": [
    {
     "name": "stdout",
     "output_type": "stream",
     "text": [
      "<class 'pandas.core.frame.DataFrame'>\n",
      "RangeIndex: 66494 entries, 0 to 66493\n",
      "Data columns (total 27 columns):\n",
      "ReportNumber            66494 non-null object\n",
      "ACRSReportType          66494 non-null object\n",
      "Year                    66494 non-null int64\n",
      "CrashDate/Time          66494 non-null object\n",
      "Hit/Run                 66492 non-null object\n",
      "LaneDirection           58037 non-null object\n",
      "NumberofLanes           66494 non-null int64\n",
      "RoadGrade               57572 non-null object\n",
      "NonTraffic              66494 non-null object\n",
      "AtFault                 66494 non-null object\n",
      "CollisionType           66151 non-null object\n",
      "Weather                 60914 non-null object\n",
      "SurfaceCondition        56334 non-null object\n",
      "Light                   65953 non-null object\n",
      "TrafficControl          54511 non-null object\n",
      "DriverSubstanceAbuse    55822 non-null object\n",
      "FirstHarmfulEvent       66128 non-null object\n",
      "Junction                48833 non-null object\n",
      "RoadAlignment           57736 non-null object\n",
      "RoadCondition           55538 non-null object\n",
      "RoadDivision            57155 non-null object\n",
      "Latitude                66494 non-null float64\n",
      "Longitude               66494 non-null float64\n",
      "Location                66494 non-null object\n",
      "Visibility              66494 non-null object\n",
      "DUI                     66494 non-null object\n",
      "Condition               66494 non-null object\n",
      "dtypes: float64(2), int64(2), object(23)\n",
      "memory usage: 13.7+ MB\n"
     ]
    }
   ],
   "source": [
    "df.drop(columns=['LocalCaseNumber','AgencyName','RouteType','MilePoint','MilePointDirection', \n",
    "                 'LaneNumber','Direction', 'Distance','DistanceUnit',\n",
    "                 'Cross-StreetName','RoadName','Cross-StreetType'\n",
    "                 ], inplace=True)\n",
    "df.info()"
   ]
  },
  {
   "cell_type": "markdown",
   "metadata": {},
   "source": [
    "<br>"
   ]
  },
  {
   "cell_type": "markdown",
   "metadata": {},
   "source": [
    "# Hypothesis 1\n",
    "\n",
    "<br>Question: Does Unfavorable Conditions (Low Visibility and DUI) affect the type of crash (Severe or Property damage) ?\n",
    "\n",
    "<br><b>H0</b>: Unfavorable Condition are not associated with the type of crash\n",
    "<br><b>Ha</b>: Unfavorable Condition are associated with the type of crash\n",
    "\n",
    "<br>We will be using Chi-Square Test:\n",
    "<br>The test is applied when you have two categorical variables from a single population. \n",
    "<br>It is used to determine whether there is a significant association between the two variables.\n"
   ]
  },
  {
   "cell_type": "markdown",
   "metadata": {},
   "source": [
    "Step 1:\n",
    "<br>We first create a Contingency table.\n",
    "<br>A Contingency table (also called crosstab) is used in statistics to summarise the relationship between several categorical <br>variables. Here, we take a table that shows the number of favorable and Unfavorable conditions leading to different types of Crashes.\n",
    "<br>Using the Contingency table we get Observed value table"
   ]
  },
  {
   "cell_type": "code",
   "execution_count": 68,
   "metadata": {},
   "outputs": [
    {
     "name": "stdout",
     "output_type": "stream",
     "text": [
      "ACRSReportType  Property Damage Crash  Severe\n",
      "Condition                                    \n",
      "Favorable                       38317   21726\n",
      "Unfavorable                      4423    2028\n"
     ]
    }
   ],
   "source": [
    "dataset_table=pd.crosstab(df['Condition'],df['ACRSReportType'])\n",
    "print(dataset_table)"
   ]
  },
  {
   "cell_type": "code",
   "execution_count": 69,
   "metadata": {},
   "outputs": [
    {
     "name": "stdout",
     "output_type": "stream",
     "text": [
      "Observed Values :-\n",
      " [[38317 21726]\n",
      " [ 4423  2028]]\n"
     ]
    }
   ],
   "source": [
    "#Observed Values\n",
    "Observed_Values = dataset_table.values \n",
    "print(\"Observed Values :-\\n\",Observed_Values)"
   ]
  },
  {
   "cell_type": "markdown",
   "metadata": {},
   "source": [
    "Step2: Calculating the Expected value table\n",
    "<br> SciPy: used in mathematics, engineering, scientific and technical computing. "
   ]
  },
  {
   "cell_type": "code",
   "execution_count": 49,
   "metadata": {},
   "outputs": [],
   "source": [
    "import scipy.stats as stats"
   ]
  },
  {
   "cell_type": "code",
   "execution_count": 70,
   "metadata": {},
   "outputs": [
    {
     "data": {
      "text/plain": [
       "(56.96158108895705,\n",
       " 4.4440948507647395e-14,\n",
       " 1,\n",
       " array([[38593.52452853, 21449.47547147],\n",
       "        [ 4146.47547147,  2304.52452853]]))"
      ]
     },
     "execution_count": 70,
     "metadata": {},
     "output_type": "execute_result"
    }
   ],
   "source": [
    "val=stats.chi2_contingency(dataset_table)\n",
    "val"
   ]
  },
  {
   "cell_type": "code",
   "execution_count": 71,
   "metadata": {},
   "outputs": [],
   "source": [
    "Expected_Values=val[3]"
   ]
  },
  {
   "cell_type": "code",
   "execution_count": 72,
   "metadata": {},
   "outputs": [
    {
     "name": "stdout",
     "output_type": "stream",
     "text": [
      "Degree of Freedom:- 1\n"
     ]
    }
   ],
   "source": [
    "no_of_rows=len(dataset_table.iloc[0:2,0])\n",
    "no_of_columns=len(dataset_table.iloc[0,0:2])\n",
    "ddof=(no_of_rows-1)*(no_of_columns-1)\n",
    "print(\"Degree of Freedom:-\",ddof)\n",
    "alpha = 0.05"
   ]
  },
  {
   "cell_type": "markdown",
   "metadata": {},
   "source": [
    "Step 3: Performing the test using Python (scipy.stats)\n",
    "\n",
    "<br>We define a significance factor to determine whether the relation between the variables is of considerable significance. <br>Generally a significance factor or alpha value of 0.05 is chosen. This alpha value denotes the probability of erroneously <br>rejecting H0 when it is true. A lower alpha value is chosen in cases where we expect more precision. If the p-value for the <br>test comes out to be strictly greater than the alpha value, then H0 holds true.\n",
    "\n",
    "<br>Using chi-square value:\n",
    "<br>If our calculated value of chi-square is less or equal to the tabular(also called critical) value of chi-square, then H0 holds true."
   ]
  },
  {
   "cell_type": "code",
   "execution_count": 83,
   "metadata": {},
   "outputs": [],
   "source": [
    "from scipy.stats import chi2\n",
    "chi_square=sum([(o-e)**2./e for o,e in zip(Observed_Values,Expected_Values)])\n",
    "chi_square_statistic=chi_square[0]+chi_square[1]"
   ]
  },
  {
   "cell_type": "code",
   "execution_count": 84,
   "metadata": {},
   "outputs": [
    {
     "name": "stdout",
     "output_type": "stream",
     "text": [
      "chi-square statistic:- 57.16813219672595\n"
     ]
    }
   ],
   "source": [
    "print(\"chi-square statistic:-\",chi_square_statistic)"
   ]
  },
  {
   "cell_type": "code",
   "execution_count": 85,
   "metadata": {},
   "outputs": [
    {
     "name": "stdout",
     "output_type": "stream",
     "text": [
      "critical_value: 3.841458820694124\n"
     ]
    }
   ],
   "source": [
    "critical_value=chi2.ppf(q=1-alpha,df=ddof)\n",
    "print('critical_value:',critical_value)"
   ]
  },
  {
   "cell_type": "markdown",
   "metadata": {},
   "source": [
    "Using chi-square statistic and degree of freedom we find p value using the below formula"
   ]
  },
  {
   "cell_type": "code",
   "execution_count": 81,
   "metadata": {},
   "outputs": [
    {
     "name": "stdout",
     "output_type": "stream",
     "text": [
      "p-value: 3.9968028886505635e-14\n",
      "Significance level:  0.05\n",
      "Degree of Freedom:  1\n",
      "p-value: 3.9968028886505635e-14\n"
     ]
    }
   ],
   "source": [
    "p_value=1-chi2.cdf(x=chi_square_statistic,df=ddof)\n",
    "print('p-value:',p_value)\n",
    "print('Significance level: ',alpha)\n",
    "print('Degree of Freedom: ',ddof)\n",
    "print('p-value:',p_value)"
   ]
  },
  {
   "cell_type": "code",
   "execution_count": 82,
   "metadata": {},
   "outputs": [
    {
     "name": "stdout",
     "output_type": "stream",
     "text": [
      "Reject H0,There is a relationship between 2 categorical variables\n"
     ]
    }
   ],
   "source": [
    "if p_value<=alpha:\n",
    "    print(\"Reject H0,There is a relationship between 2 categorical variables\")\n",
    "else:\n",
    "    print(\"Retain H0,There is no relationship between 2 categorical variables\")"
   ]
  },
  {
   "cell_type": "markdown",
   "metadata": {},
   "source": [
    "Since, p-value > alpha. Therefore, we Reject H0, that is, the variables do have a significant relation."
   ]
  },
  {
   "cell_type": "markdown",
   "metadata": {},
   "source": [
    "# Hypothesis 2\n",
    "\n",
    "<br>Question: Does Injury crash lead to more hit and run cases?\n",
    "\n",
    "<br><b>H0</b>: Injury crash has no relation to hit and run cases.\n",
    "<br><b>Ha</b>: Injury crash leads to more hit and cases.\n",
    "\n",
    "<br>We will be using Fisher’s exact test \n",
    "<br>Fisher's exact test is an alternative statistical significance test to chi square test used in the analysis of 2 x 2 contingency tables. \n",
    "<br>It is one of a class of exact tests, so called because the significance of the deviation from a null hypothesis ( P-value) can be calculated exactly, rather than relying on an approximation that becomes exact as the sample size grows to infinity, as seen with chi-square test. \n",
    "<br>It is used to examine the significance of the association between the two kinds of classification. \n"
   ]
  },
  {
   "cell_type": "markdown",
   "metadata": {},
   "source": [
    "Step 1: Create a table with frequencies of crash type and hit/ run"
   ]
  },
  {
   "cell_type": "code",
   "execution_count": 59,
   "metadata": {},
   "outputs": [
    {
     "data": {
      "text/html": [
       "<div>\n",
       "<style scoped>\n",
       "    .dataframe tbody tr th:only-of-type {\n",
       "        vertical-align: middle;\n",
       "    }\n",
       "\n",
       "    .dataframe tbody tr th {\n",
       "        vertical-align: top;\n",
       "    }\n",
       "\n",
       "    .dataframe thead th {\n",
       "        text-align: right;\n",
       "    }\n",
       "</style>\n",
       "<table border=\"1\" class=\"dataframe\">\n",
       "  <thead>\n",
       "    <tr style=\"text-align: right;\">\n",
       "      <th></th>\n",
       "      <th>H/R No</th>\n",
       "      <th>H/R Yes</th>\n",
       "    </tr>\n",
       "  </thead>\n",
       "  <tbody>\n",
       "    <tr>\n",
       "      <td>Fatal Crash</td>\n",
       "      <td>176.0</td>\n",
       "      <td>9.0</td>\n",
       "    </tr>\n",
       "    <tr>\n",
       "      <td>Injury crash</td>\n",
       "      <td>22051.0</td>\n",
       "      <td>1516.0</td>\n",
       "    </tr>\n",
       "  </tbody>\n",
       "</table>\n",
       "</div>"
      ],
      "text/plain": [
       "               H/R No  H/R Yes\n",
       "Fatal Crash     176.0      9.0\n",
       "Injury crash  22051.0   1516.0"
      ]
     },
     "execution_count": 59,
     "metadata": {},
     "output_type": "execute_result"
    }
   ],
   "source": [
    "ar=np.array([[176.0, 9.0],[22051.0, 1516.0]])    \n",
    "nf=pd.DataFrame(ar, columns=[\"H/R No\", \"H/R Yes\"])\n",
    "nf.index=[\"Fatal Crash\", \"Injury crash\"] \n",
    "nf"
   ]
  },
  {
   "cell_type": "markdown",
   "metadata": {},
   "source": [
    "Step 2: Perform Fisher’s Exact Test.\n",
    "\n",
    "We perform Fisher’s Exact Test using the fisher_exact function from the SciPy library."
   ]
  },
  {
   "cell_type": "code",
   "execution_count": 60,
   "metadata": {},
   "outputs": [
    {
     "data": {
      "text/plain": [
       "0.45353710557001536"
      ]
     },
     "execution_count": 60,
     "metadata": {},
     "output_type": "execute_result"
    }
   ],
   "source": [
    "oddsratio, pvalue = stats.fisher_exact([[176.0, 9.0],[22051.0, 1516.0]])  \n",
    "pvalue"
   ]
  },
  {
   "cell_type": "code",
   "execution_count": 61,
   "metadata": {},
   "outputs": [],
   "source": [
    "fisher_pvalue = pvalue\n",
    "alpha = 0.05"
   ]
  },
  {
   "cell_type": "code",
   "execution_count": 62,
   "metadata": {},
   "outputs": [
    {
     "name": "stdout",
     "output_type": "stream",
     "text": [
      "Retain H0,There is no relationship between 2 categorical variables\n"
     ]
    }
   ],
   "source": [
    "if fisher_pvalue<=alpha:\n",
    "    print(\"Reject H0,There is a relationship between 2 categorical variables\")\n",
    "else:\n",
    "    print(\"Retain H0,There is no relationship between 2 categorical variables\")"
   ]
  },
  {
   "cell_type": "markdown",
   "metadata": {},
   "source": [
    "Since this p-value is not less than 0.05, we do not reject the null hypothesis. Thus, we don’t have sufficient evidence to say that there is a significant association between Hit and run and type of crash."
   ]
  }
 ],
 "metadata": {
  "kernelspec": {
   "display_name": "Python 3",
   "language": "python",
   "name": "python3"
  },
  "language_info": {
   "codemirror_mode": {
    "name": "ipython",
    "version": 3
   },
   "file_extension": ".py",
   "mimetype": "text/x-python",
   "name": "python",
   "nbconvert_exporter": "python",
   "pygments_lexer": "ipython3",
   "version": "3.7.4"
  }
 },
 "nbformat": 4,
 "nbformat_minor": 2
}
